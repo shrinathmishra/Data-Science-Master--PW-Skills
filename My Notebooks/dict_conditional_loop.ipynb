{
 "cells": [
  {
   "cell_type": "code",
   "execution_count": 1,
   "id": "96c28a28-a240-441b-ac5d-3a0de9bf8688",
   "metadata": {},
   "outputs": [],
   "source": [
    "d= {}"
   ]
  },
  {
   "cell_type": "code",
   "execution_count": 2,
   "id": "c54d9ed8-f75d-4c97-a059-5ca97ed430f6",
   "metadata": {},
   "outputs": [
    {
     "data": {
      "text/plain": [
       "dict"
      ]
     },
     "execution_count": 2,
     "metadata": {},
     "output_type": "execute_result"
    }
   ],
   "source": [
    "type(d)"
   ]
  },
  {
   "cell_type": "code",
   "execution_count": 3,
   "id": "085b01e0-46dc-4be5-923f-66405f6be9ef",
   "metadata": {},
   "outputs": [],
   "source": [
    "d1 = {'key' : 'shri'}"
   ]
  },
  {
   "cell_type": "code",
   "execution_count": 4,
   "id": "6d3b1d06-986a-4aca-a0ed-e52aea046b57",
   "metadata": {},
   "outputs": [
    {
     "data": {
      "text/plain": [
       "{'key': 'shri'}"
      ]
     },
     "execution_count": 4,
     "metadata": {},
     "output_type": "execute_result"
    }
   ],
   "source": [
    "d1"
   ]
  },
  {
   "cell_type": "code",
   "execution_count": 5,
   "id": "a95c4573-d204-449f-b6d7-0749591d3153",
   "metadata": {},
   "outputs": [],
   "source": [
    "d2 = {'name' : 'shrinath' , 'email' : 'shrinath19801@gmail.com' , 'number' : 998833932}"
   ]
  },
  {
   "cell_type": "code",
   "execution_count": 6,
   "id": "c3d2de0e-0eab-4323-9505-bd624b0c17c9",
   "metadata": {},
   "outputs": [
    {
     "data": {
      "text/plain": [
       "{'name': 'shrinath', 'email': 'shrinath19801@gmail.com', 'number': 998833932}"
      ]
     },
     "execution_count": 6,
     "metadata": {},
     "output_type": "execute_result"
    }
   ],
   "source": [
    "d2"
   ]
  },
  {
   "cell_type": "code",
   "execution_count": 9,
   "id": "91056a24-42cc-410d-8585-71b152e484a3",
   "metadata": {},
   "outputs": [],
   "source": [
    "d3 = {234 : 'shri' , '_wer': 'mishra', True : 323232}"
   ]
  },
  {
   "cell_type": "code",
   "execution_count": 10,
   "id": "c256f380-287c-46ec-850a-d85b0be5e3df",
   "metadata": {},
   "outputs": [
    {
     "data": {
      "text/plain": [
       "{234: 'shri', '_wer': 'mishra', True: 323232}"
      ]
     },
     "execution_count": 10,
     "metadata": {},
     "output_type": "execute_result"
    }
   ],
   "source": [
    "d3"
   ]
  },
  {
   "cell_type": "code",
   "execution_count": 12,
   "id": "0fc12d51-ec01-43ef-9a75-407a183e9ed0",
   "metadata": {},
   "outputs": [
    {
     "data": {
      "text/plain": [
       "'shri'"
      ]
     },
     "execution_count": 12,
     "metadata": {},
     "output_type": "execute_result"
    }
   ],
   "source": [
    "d3[234]"
   ]
  },
  {
   "cell_type": "code",
   "execution_count": 13,
   "id": "50bd5d5d-2ad4-4171-a1ff-baa84e49b89a",
   "metadata": {},
   "outputs": [
    {
     "data": {
      "text/plain": [
       "323232"
      ]
     },
     "execution_count": 13,
     "metadata": {},
     "output_type": "execute_result"
    }
   ],
   "source": [
    "d3[1]"
   ]
  },
  {
   "cell_type": "code",
   "execution_count": 15,
   "id": "52c9014f-c416-4d06-aaf1-630d86230895",
   "metadata": {},
   "outputs": [
    {
     "data": {
      "text/plain": [
       "323232"
      ]
     },
     "execution_count": 15,
     "metadata": {},
     "output_type": "execute_result"
    }
   ],
   "source": [
    "d3[True]"
   ]
  },
  {
   "cell_type": "code",
   "execution_count": 16,
   "id": "575d3098-fda0-4a95-82bd-b51ef4b8c280",
   "metadata": {},
   "outputs": [],
   "source": [
    "d4 = {'name' : 'shri' , 'mail_id' : 'ss@gmail.com' , 'name' : 'shrinath'}"
   ]
  },
  {
   "cell_type": "code",
   "execution_count": 17,
   "id": "04ea498c-7eb5-4aca-91b2-1c7316880dc3",
   "metadata": {},
   "outputs": [
    {
     "data": {
      "text/plain": [
       "'shrinath'"
      ]
     },
     "execution_count": 17,
     "metadata": {},
     "output_type": "execute_result"
    }
   ],
   "source": [
    "d4['name']"
   ]
  },
  {
   "cell_type": "code",
   "execution_count": 18,
   "id": "11074ece-5e38-4677-b42e-e7b5bfc7a092",
   "metadata": {},
   "outputs": [],
   "source": [
    "d5 = {'company' : 'datascience' , 'course' : ['webdev', 'android' , 'java with dsa system design']}"
   ]
  },
  {
   "cell_type": "code",
   "execution_count": 19,
   "id": "939b28b1-c354-4d92-800f-5cedf791f5af",
   "metadata": {},
   "outputs": [
    {
     "data": {
      "text/plain": [
       "{'company': 'datascience',\n",
       " 'course': ['webdev', 'android', 'java with dsa system design']}"
      ]
     },
     "execution_count": 19,
     "metadata": {},
     "output_type": "execute_result"
    }
   ],
   "source": [
    "d5"
   ]
  },
  {
   "cell_type": "code",
   "execution_count": 20,
   "id": "ca48eb4f-2b2c-496c-8cb4-17bb70b7de32",
   "metadata": {},
   "outputs": [
    {
     "data": {
      "text/plain": [
       "['webdev', 'android', 'java with dsa system design']"
      ]
     },
     "execution_count": 20,
     "metadata": {},
     "output_type": "execute_result"
    }
   ],
   "source": [
    "d5['course']"
   ]
  },
  {
   "cell_type": "code",
   "execution_count": 21,
   "id": "cc31a775-0be5-4fbb-bb5c-b7a284af5773",
   "metadata": {},
   "outputs": [
    {
     "data": {
      "text/plain": [
       "'java with dsa system design'"
      ]
     },
     "execution_count": 21,
     "metadata": {},
     "output_type": "execute_result"
    }
   ],
   "source": [
    "d5['course'][2]"
   ]
  },
  {
   "cell_type": "code",
   "execution_count": 24,
   "id": "97c08a71-c47f-4463-96f7-29d1338bf513",
   "metadata": {},
   "outputs": [],
   "source": [
    "d6 = {'number' : [2,34,4,34,34] , 'assignment' : (1,2,3,4,5,6) , 'launch_date' : {28,12,15} , 'class_time' : {'web_dev' : 8 , 'java with dsa and system design' :7}}"
   ]
  },
  {
   "cell_type": "code",
   "execution_count": 25,
   "id": "af408f34-fec6-4ef9-ba19-e332271f87bb",
   "metadata": {},
   "outputs": [
    {
     "data": {
      "text/plain": [
       "{'number': [2, 34, 4, 34, 34],\n",
       " 'assignment': (1, 2, 3, 4, 5, 6),\n",
       " 'launch_date': {12, 15, 28},\n",
       " 'class_time': {'web_dev': 8, 'java with dsa and system design': 7}}"
      ]
     },
     "execution_count": 25,
     "metadata": {},
     "output_type": "execute_result"
    }
   ],
   "source": [
    "d6"
   ]
  },
  {
   "cell_type": "code",
   "execution_count": 26,
   "id": "3f995fbf-0672-4bbb-8723-7eb46afe35cd",
   "metadata": {},
   "outputs": [
    {
     "data": {
      "text/plain": [
       "{'web_dev': 8, 'java with dsa and system design': 7}"
      ]
     },
     "execution_count": 26,
     "metadata": {},
     "output_type": "execute_result"
    }
   ],
   "source": [
    "d6['class_time']"
   ]
  },
  {
   "cell_type": "code",
   "execution_count": 27,
   "id": "53904a1f-6cc4-445f-b43a-a357e9ca0aff",
   "metadata": {},
   "outputs": [
    {
     "data": {
      "text/plain": [
       "8"
      ]
     },
     "execution_count": 27,
     "metadata": {},
     "output_type": "execute_result"
    }
   ],
   "source": [
    "d6['class_time']['web_dev']"
   ]
  },
  {
   "cell_type": "code",
   "execution_count": 28,
   "id": "9f54737e-e3e9-4ed6-b8da-9711cc860c3e",
   "metadata": {},
   "outputs": [],
   "source": [
    "d6['mentor'] = ['shrinath', 'adesh', 'insane', 'Nirmit']"
   ]
  },
  {
   "cell_type": "code",
   "execution_count": 29,
   "id": "53a22b34-a04e-4170-add3-b7006304c850",
   "metadata": {},
   "outputs": [
    {
     "data": {
      "text/plain": [
       "{'number': [2, 34, 4, 34, 34],\n",
       " 'assignment': (1, 2, 3, 4, 5, 6),\n",
       " 'launch_date': {12, 15, 28},\n",
       " 'class_time': {'web_dev': 8, 'java with dsa and system design': 7},\n",
       " 'mentor': ['shrinath', 'adesh', 'insane', 'Nirmit']}"
      ]
     },
     "execution_count": 29,
     "metadata": {},
     "output_type": "execute_result"
    }
   ],
   "source": [
    "d6"
   ]
  },
  {
   "cell_type": "code",
   "execution_count": 30,
   "id": "c506c182-0bf5-4f37-92cb-39e47ab1dcc1",
   "metadata": {},
   "outputs": [],
   "source": [
    "del d6['number']"
   ]
  },
  {
   "cell_type": "code",
   "execution_count": 31,
   "id": "8690a399-2b70-4623-b7a4-4aacf6726203",
   "metadata": {},
   "outputs": [
    {
     "data": {
      "text/plain": [
       "{'assignment': (1, 2, 3, 4, 5, 6),\n",
       " 'launch_date': {12, 15, 28},\n",
       " 'class_time': {'web_dev': 8, 'java with dsa and system design': 7},\n",
       " 'mentor': ['shrinath', 'adesh', 'insane', 'Nirmit']}"
      ]
     },
     "execution_count": 31,
     "metadata": {},
     "output_type": "execute_result"
    }
   ],
   "source": [
    "d6"
   ]
  },
  {
   "cell_type": "code",
   "execution_count": 33,
   "id": "d65e28fc-ccc8-4d90-b0fe-5a3ce4506b04",
   "metadata": {},
   "outputs": [
    {
     "data": {
      "text/plain": [
       "dict_keys(['assignment', 'launch_date', 'class_time', 'mentor'])"
      ]
     },
     "execution_count": 33,
     "metadata": {},
     "output_type": "execute_result"
    }
   ],
   "source": [
    "d6.keys()"
   ]
  },
  {
   "cell_type": "code",
   "execution_count": 34,
   "id": "3281bcd1-21a2-4379-8b1a-b26fdb3491af",
   "metadata": {},
   "outputs": [
    {
     "data": {
      "text/plain": [
       "['assignment', 'launch_date', 'class_time', 'mentor']"
      ]
     },
     "execution_count": 34,
     "metadata": {},
     "output_type": "execute_result"
    }
   ],
   "source": [
    "list(d6.keys())"
   ]
  },
  {
   "cell_type": "code",
   "execution_count": 36,
   "id": "46fba4c9-c9c2-4cb3-a052-c5ee4a598929",
   "metadata": {},
   "outputs": [
    {
     "data": {
      "text/plain": [
       "[(1, 2, 3, 4, 5, 6),\n",
       " {12, 15, 28},\n",
       " {'web_dev': 8, 'java with dsa and system design': 7},\n",
       " ['shrinath', 'adesh', 'insane', 'Nirmit']]"
      ]
     },
     "execution_count": 36,
     "metadata": {},
     "output_type": "execute_result"
    }
   ],
   "source": [
    "list(d6.values())"
   ]
  },
  {
   "cell_type": "code",
   "execution_count": 38,
   "id": "21d3fed3-cf91-4fc6-a7f9-b8ee58c4f340",
   "metadata": {},
   "outputs": [
    {
     "data": {
      "text/plain": [
       "[('assignment', (1, 2, 3, 4, 5, 6)),\n",
       " ('launch_date', {12, 15, 28}),\n",
       " ('class_time', {'web_dev': 8, 'java with dsa and system design': 7}),\n",
       " ('mentor', ['shrinath', 'adesh', 'insane', 'Nirmit'])]"
      ]
     },
     "execution_count": 38,
     "metadata": {},
     "output_type": "execute_result"
    }
   ],
   "source": [
    "list(d6.items())"
   ]
  },
  {
   "cell_type": "code",
   "execution_count": 39,
   "id": "1737f228-9698-4d3c-a80e-3db25f836b7b",
   "metadata": {},
   "outputs": [
    {
     "data": {
      "text/plain": [
       "(1, 2, 3, 4, 5, 6)"
      ]
     },
     "execution_count": 39,
     "metadata": {},
     "output_type": "execute_result"
    }
   ],
   "source": [
    "d6.pop('assignment')"
   ]
  },
  {
   "cell_type": "code",
   "execution_count": 40,
   "id": "4b87bf36-b525-4cf0-b92c-edba36d086e7",
   "metadata": {},
   "outputs": [
    {
     "data": {
      "text/plain": [
       "{'launch_date': {12, 15, 28},\n",
       " 'class_time': {'web_dev': 8, 'java with dsa and system design': 7},\n",
       " 'mentor': ['shrinath', 'adesh', 'insane', 'Nirmit']}"
      ]
     },
     "execution_count": 40,
     "metadata": {},
     "output_type": "execute_result"
    }
   ],
   "source": [
    "d6"
   ]
  },
  {
   "cell_type": "code",
   "execution_count": 41,
   "id": "a0622bc3-6f30-4b13-8a88-50cce1a80b7f",
   "metadata": {},
   "outputs": [
    {
     "ename": "TypeError",
     "evalue": "pop expected at least 1 argument, got 0",
     "output_type": "error",
     "traceback": [
      "\u001b[0;31m---------------------------------------------------------------------------\u001b[0m",
      "\u001b[0;31mTypeError\u001b[0m                                 Traceback (most recent call last)",
      "Cell \u001b[0;32mIn[41], line 1\u001b[0m\n\u001b[0;32m----> 1\u001b[0m \u001b[43md6\u001b[49m\u001b[38;5;241;43m.\u001b[39;49m\u001b[43mpop\u001b[49m\u001b[43m(\u001b[49m\u001b[43m)\u001b[49m\n",
      "\u001b[0;31mTypeError\u001b[0m: pop expected at least 1 argument, got 0"
     ]
    }
   ],
   "source": [
    "d6.pop()"
   ]
  },
  {
   "cell_type": "markdown",
   "id": "3c2d2b12-a3c2-4207-a550-ab38310d87c7",
   "metadata": {},
   "source": [
    "Dictionary is also a mutable object."
   ]
  },
  {
   "cell_type": "code",
   "execution_count": null,
   "id": "bea572cd-4634-4afc-8494-3344e2d4ca2b",
   "metadata": {},
   "outputs": [],
   "source": []
  },
  {
   "cell_type": "markdown",
   "id": "582316fc-3287-4793-9e62-35c8090f40aa",
   "metadata": {},
   "source": [
    "Conditional !!!"
   ]
  },
  {
   "cell_type": "code",
   "execution_count": 12,
   "id": "e27dd03d-afd3-4fe9-b6d9-e668521b995b",
   "metadata": {},
   "outputs": [
    {
     "name": "stdin",
     "output_type": "stream",
     "text": [
      "Enter your Marks 10\n"
     ]
    },
    {
     "name": "stdout",
     "output_type": "stream",
     "text": [
      "you will be a part of A3 Batch\n"
     ]
    }
   ],
   "source": [
    "marks = int(input(\"Enter your Marks\"))\n",
    "\n",
    "if marks >= 80:\n",
    "    print(\"you will be a part of A0 Batch\")\n",
    "elif marks >= 60 and marks < 80:\n",
    "    print(\"you will be a part of A1 Batch\")\n",
    "elif marks >= 40 and marks < 60:\n",
    "    print(\"you will be a part of A2 Batch\")\n",
    "else:\n",
    "    print(\"you will be a part of A3 Batch\")"
   ]
  },
  {
   "cell_type": "code",
   "execution_count": 13,
   "id": "fb0f7b94-c489-4cec-8df0-218e1f0e9208",
   "metadata": {},
   "outputs": [
    {
     "data": {
      "text/plain": [
       "False"
      ]
     },
     "execution_count": 13,
     "metadata": {},
     "output_type": "execute_result"
    }
   ],
   "source": [
    "10 >= 80"
   ]
  },
  {
   "cell_type": "code",
   "execution_count": 15,
   "id": "7055bc05-7a36-45a7-a217-fae1c526ae54",
   "metadata": {},
   "outputs": [
    {
     "name": "stdin",
     "output_type": "stream",
     "text": [
      "Enter your Marks 45\n"
     ]
    }
   ],
   "source": [
    "marks = int(input(\"Enter your Marks\"))"
   ]
  },
  {
   "cell_type": "code",
   "execution_count": 16,
   "id": "1979237e-eba9-494f-a90e-cd1a39351a57",
   "metadata": {},
   "outputs": [
    {
     "data": {
      "text/plain": [
       "int"
      ]
     },
     "execution_count": 16,
     "metadata": {},
     "output_type": "execute_result"
    }
   ],
   "source": [
    "type(marks)"
   ]
  },
  {
   "cell_type": "code",
   "execution_count": 17,
   "id": "249031e3-6f57-43f0-99a1-9cb5d1eee44b",
   "metadata": {},
   "outputs": [
    {
     "data": {
      "text/plain": [
       "45"
      ]
     },
     "execution_count": 17,
     "metadata": {},
     "output_type": "execute_result"
    }
   ],
   "source": [
    "marks"
   ]
  },
  {
   "cell_type": "code",
   "execution_count": 19,
   "id": "259ed962-e99e-4d1d-9b00-fe9b01e20eda",
   "metadata": {},
   "outputs": [
    {
     "name": "stdin",
     "output_type": "stream",
     "text": [
      "enter price  500\n"
     ]
    },
    {
     "name": "stdout",
     "output_type": "stream",
     "text": [
      "I will purchase\n"
     ]
    }
   ],
   "source": [
    "price = int(input('enter price '))\n",
    "if price > 1000:\n",
    "    print('I will not purchase')\n",
    "else:\n",
    "    print('I will purchase')"
   ]
  },
  {
   "cell_type": "code",
   "execution_count": 23,
   "id": "516d31e5-a7b7-42b2-a9a4-5efa11668367",
   "metadata": {},
   "outputs": [
    {
     "name": "stdin",
     "output_type": "stream",
     "text": [
      "enter price  500\n"
     ]
    },
    {
     "name": "stdout",
     "output_type": "stream",
     "text": [
      "I will purchase\n"
     ]
    }
   ],
   "source": [
    "price = int(input('enter price '))\n",
    "if price > 1000:\n",
    "    print('I will not purchase')\n",
    "    if price > 5000:\n",
    "        print('this is too much')\n",
    "    elif price < 2000:\n",
    "        print(\"it's Okay \")\n",
    "elif price < 1000:\n",
    "    print(\"I will purchase\")\n",
    "else:\n",
    "    print(\"Not interested\")"
   ]
  },
  {
   "cell_type": "code",
   "execution_count": null,
   "id": "7ab8c469-620f-49f3-97d5-5ece59c90cb1",
   "metadata": {},
   "outputs": [],
   "source": []
  },
  {
   "cell_type": "markdown",
   "id": "c70a1468-8f79-48f6-99dc-1bf5264f63c4",
   "metadata": {},
   "source": [
    "Loops !!!"
   ]
  },
  {
   "cell_type": "code",
   "execution_count": 24,
   "id": "943e0e5a-1506-419e-a624-78e0cf001d02",
   "metadata": {},
   "outputs": [],
   "source": [
    "l = [1,2,3,4,5,6,7,8,9]"
   ]
  },
  {
   "cell_type": "code",
   "execution_count": 26,
   "id": "76009167-9965-43de-84b4-36d5409b5779",
   "metadata": {},
   "outputs": [
    {
     "data": {
      "text/plain": [
       "2"
      ]
     },
     "execution_count": 26,
     "metadata": {},
     "output_type": "execute_result"
    }
   ],
   "source": [
    "l[0] + 1"
   ]
  },
  {
   "cell_type": "code",
   "execution_count": 36,
   "id": "b76af7dc-fd45-48b6-9422-a3c4cf437d77",
   "metadata": {},
   "outputs": [],
   "source": [
    "l1 = []"
   ]
  },
  {
   "cell_type": "code",
   "execution_count": 28,
   "id": "f583896f-ba46-4715-a686-9a4db6d8230d",
   "metadata": {},
   "outputs": [],
   "source": [
    "l1.append(l[0] + 1)"
   ]
  },
  {
   "cell_type": "code",
   "execution_count": 29,
   "id": "45e1b092-eedf-4933-9bcf-d2374d8cb5f9",
   "metadata": {},
   "outputs": [
    {
     "data": {
      "text/plain": [
       "[2]"
      ]
     },
     "execution_count": 29,
     "metadata": {},
     "output_type": "execute_result"
    }
   ],
   "source": [
    "l1"
   ]
  },
  {
   "cell_type": "code",
   "execution_count": 37,
   "id": "abb06bb1-d98f-474b-8445-ca7ce8e940c6",
   "metadata": {},
   "outputs": [],
   "source": [
    "l = [1,2,3,4,5,6,7,8,9]"
   ]
  },
  {
   "cell_type": "code",
   "execution_count": 38,
   "id": "7821f7b5-1c20-44aa-850d-56eb55bdb95b",
   "metadata": {},
   "outputs": [
    {
     "name": "stdout",
     "output_type": "stream",
     "text": [
      "2\n",
      "3\n",
      "4\n",
      "5\n",
      "6\n",
      "7\n",
      "8\n",
      "9\n",
      "10\n"
     ]
    },
    {
     "data": {
      "text/plain": [
       "[2, 3, 4, 5, 6, 7, 8, 9, 10]"
      ]
     },
     "execution_count": 38,
     "metadata": {},
     "output_type": "execute_result"
    }
   ],
   "source": [
    "for i in l:\n",
    "    print(i+1)\n",
    "    l1.append(i+1)\n",
    "l1"
   ]
  },
  {
   "cell_type": "code",
   "execution_count": 1,
   "id": "6ac0bcf3-427a-4f57-8408-ca74de242caf",
   "metadata": {},
   "outputs": [],
   "source": [
    "l = [\"shrinath\", \"mishra\", \"datascience\", \"course\"]"
   ]
  },
  {
   "cell_type": "code",
   "execution_count": 4,
   "id": "ca9e6b14-c608-40e9-8d00-c2d4ce7ed0c0",
   "metadata": {},
   "outputs": [
    {
     "name": "stdout",
     "output_type": "stream",
     "text": [
      "SHRINATH\n",
      "MISHRA\n",
      "DATASCIENCE\n",
      "COURSE\n"
     ]
    }
   ],
   "source": [
    "l1 = []\n",
    "for i in l:\n",
    "    print(i.upper())\n",
    "    l1.append(i.upper())"
   ]
  },
  {
   "cell_type": "code",
   "execution_count": 5,
   "id": "88f7f210-1ab0-4238-98da-d1307fcf8811",
   "metadata": {},
   "outputs": [
    {
     "data": {
      "text/plain": [
       "['SHRINATH', 'MISHRA', 'DATASCIENCE', 'COURSE']"
      ]
     },
     "execution_count": 5,
     "metadata": {},
     "output_type": "execute_result"
    }
   ],
   "source": [
    "l1"
   ]
  },
  {
   "cell_type": "code",
   "execution_count": 6,
   "id": "36988404-8d26-4f36-a9b6-b8d8d9253699",
   "metadata": {},
   "outputs": [],
   "source": [
    "l = [1,2,3,4,5,\"shri\", \"mishra\", 324,34.456,\"abc\"]"
   ]
  },
  {
   "cell_type": "code",
   "execution_count": 10,
   "id": "347a5747-d717-4ec1-b52a-0c46bd0e3dee",
   "metadata": {},
   "outputs": [],
   "source": [
    "l1_num = []\n",
    "l2_str = []\n",
    "for i in l:\n",
    "    if type(i) == int or type(i) == float:\n",
    "        l1_num.append(i)\n",
    "    else:\n",
    "        l2_str.append(i)"
   ]
  },
  {
   "cell_type": "code",
   "execution_count": 11,
   "id": "463352d6-e708-4388-870d-8e9baf6b7c96",
   "metadata": {},
   "outputs": [
    {
     "data": {
      "text/plain": [
       "[1, 2, 3, 4, 5, 324, 34.456]"
      ]
     },
     "execution_count": 11,
     "metadata": {},
     "output_type": "execute_result"
    }
   ],
   "source": [
    "l1_num"
   ]
  },
  {
   "cell_type": "code",
   "execution_count": 12,
   "id": "68382263-02f9-49e8-8f85-b4b9801e5ab2",
   "metadata": {},
   "outputs": [
    {
     "data": {
      "text/plain": [
       "['shri', 'mishra', 'abc']"
      ]
     },
     "execution_count": 12,
     "metadata": {},
     "output_type": "execute_result"
    }
   ],
   "source": [
    "l2_str"
   ]
  },
  {
   "cell_type": "code",
   "execution_count": null,
   "id": "8a337e25-33f7-4083-b91e-1874e09e3eb7",
   "metadata": {},
   "outputs": [],
   "source": []
  }
 ],
 "metadata": {
  "kernelspec": {
   "display_name": "Python 3 (ipykernel)",
   "language": "python",
   "name": "python3"
  },
  "language_info": {
   "codemirror_mode": {
    "name": "ipython",
    "version": 3
   },
   "file_extension": ".py",
   "mimetype": "text/x-python",
   "name": "python",
   "nbconvert_exporter": "python",
   "pygments_lexer": "ipython3",
   "version": "3.10.8"
  }
 },
 "nbformat": 4,
 "nbformat_minor": 5
}
