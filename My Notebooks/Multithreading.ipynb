{
 "cells": [
  {
   "cell_type": "code",
   "execution_count": 1,
   "metadata": {},
   "outputs": [],
   "source": [
    "import threading "
   ]
  },
  {
   "cell_type": "code",
   "execution_count": 6,
   "metadata": {},
   "outputs": [],
   "source": [
    "def test(id):\n",
    "    print(\"prog start %d\" % id)"
   ]
  },
  {
   "cell_type": "code",
   "execution_count": 7,
   "metadata": {},
   "outputs": [
    {
     "name": "stdout",
     "output_type": "stream",
     "text": [
      "prog start 45\n"
     ]
    }
   ],
   "source": [
    "test(45)"
   ]
  },
  {
   "cell_type": "code",
   "execution_count": 8,
   "metadata": {},
   "outputs": [],
   "source": [
    "thread = [threading.Thread(target = test, args = (i,)) for i in range(10)]"
   ]
  },
  {
   "cell_type": "code",
   "execution_count": 9,
   "metadata": {},
   "outputs": [
    {
     "name": "stdout",
     "output_type": "stream",
     "text": [
      "prog start 0prog start 1\n",
      "\n",
      "prog start 2\n",
      "prog start 3\n",
      "prog start 4\n",
      "prog start 5\n",
      "prog start 6\n",
      "prog start 7\n",
      "prog start 8\n",
      "prog start 9\n"
     ]
    }
   ],
   "source": [
    "for t in thread:\n",
    "    t.start()"
   ]
  },
  {
   "cell_type": "code",
   "execution_count": 10,
   "metadata": {},
   "outputs": [
    {
     "data": {
      "text/plain": [
       "[<Thread(Thread-3, stopped 18368)>,\n",
       " <Thread(Thread-4, stopped 2624)>,\n",
       " <Thread(Thread-5, stopped 4452)>,\n",
       " <Thread(Thread-6, stopped 13812)>,\n",
       " <Thread(Thread-7, stopped 15724)>,\n",
       " <Thread(Thread-8, stopped 17004)>,\n",
       " <Thread(Thread-9, stopped 15008)>,\n",
       " <Thread(Thread-10, stopped 18404)>,\n",
       " <Thread(Thread-11, stopped 15660)>,\n",
       " <Thread(Thread-12, stopped 12984)>]"
      ]
     },
     "execution_count": 10,
     "metadata": {},
     "output_type": "execute_result"
    }
   ],
   "source": [
    "thread"
   ]
  },
  {
   "cell_type": "code",
   "execution_count": 11,
   "metadata": {},
   "outputs": [
    {
     "data": {
      "text/plain": [
       "2291395769536"
      ]
     },
     "execution_count": 11,
     "metadata": {},
     "output_type": "execute_result"
    }
   ],
   "source": [
    "id(thread)"
   ]
  },
  {
   "cell_type": "code",
   "execution_count": 12,
   "metadata": {},
   "outputs": [],
   "source": [
    "import threading\n",
    "import urllib.request\n",
    "\n",
    "def file_download(url, filename):\n",
    "    urllib.request.urlretrieve(url, filename)"
   ]
  },
  {
   "cell_type": "code",
   "execution_count": 13,
   "metadata": {},
   "outputs": [],
   "source": [
    "file_download('https://raw.githubusercontent.com/itsfoss/text-files/master/agatha.txt', \"test_multithreading.txt\")"
   ]
  },
  {
   "cell_type": "code",
   "execution_count": 14,
   "metadata": {},
   "outputs": [],
   "source": [
    "url_list  = ['https://raw.githubusercontent.com/itsfoss/text-files/master/agatha.txt','https://raw.githubusercontent.com/itsfoss/text-files/master/sherlock.txt','https://raw.githubusercontent.com/itsfoss/text-files/master/sample_log_file.txt']"
   ]
  },
  {
   "cell_type": "code",
   "execution_count": 16,
   "metadata": {},
   "outputs": [
    {
     "data": {
      "text/plain": [
       "['https://raw.githubusercontent.com/itsfoss/text-files/master/agatha.txt',\n",
       " 'https://raw.githubusercontent.com/itsfoss/text-files/master/sherlock.txt',\n",
       " 'https://raw.githubusercontent.com/itsfoss/text-files/master/sample_log_file.txt']"
      ]
     },
     "execution_count": 16,
     "metadata": {},
     "output_type": "execute_result"
    }
   ],
   "source": [
    "url_list"
   ]
  },
  {
   "cell_type": "code",
   "execution_count": 17,
   "metadata": {},
   "outputs": [],
   "source": [
    "file_name_list = ['data1.txt', 'data2.txt', 'data3.txt']"
   ]
  },
  {
   "cell_type": "code",
   "execution_count": 19,
   "metadata": {},
   "outputs": [],
   "source": [
    "ther = [threading.Thread(target = file_download, args = (url_list[i], file_name_list[i])) for i in range(len(url_list))]"
   ]
  },
  {
   "cell_type": "code",
   "execution_count": 20,
   "metadata": {},
   "outputs": [
    {
     "data": {
      "text/plain": [
       "[<Thread(Thread-13, initial)>,\n",
       " <Thread(Thread-14, initial)>,\n",
       " <Thread(Thread-15, initial)>]"
      ]
     },
     "execution_count": 20,
     "metadata": {},
     "output_type": "execute_result"
    }
   ],
   "source": [
    "ther"
   ]
  },
  {
   "cell_type": "code",
   "execution_count": 21,
   "metadata": {},
   "outputs": [],
   "source": [
    "for t in ther:\n",
    "    t.start()"
   ]
  },
  {
   "cell_type": "code",
   "execution_count": 22,
   "metadata": {},
   "outputs": [
    {
     "data": {
      "text/plain": [
       "[<Thread(Thread-13, stopped 6996)>,\n",
       " <Thread(Thread-14, stopped 9868)>,\n",
       " <Thread(Thread-15, stopped 18652)>]"
      ]
     },
     "execution_count": 22,
     "metadata": {},
     "output_type": "execute_result"
    }
   ],
   "source": [
    "ther"
   ]
  },
  {
   "cell_type": "code",
   "execution_count": 43,
   "metadata": {},
   "outputs": [],
   "source": [
    "import time"
   ]
  },
  {
   "cell_type": "code",
   "execution_count": 48,
   "metadata": {},
   "outputs": [],
   "source": [
    "def test1(id):\n",
    "    for i in range(10):\n",
    "        print(\"test1 %d printing %d %s\" %(id,i,time.ctime()))\n",
    "        time.sleep(1)"
   ]
  },
  {
   "cell_type": "code",
   "execution_count": 49,
   "metadata": {},
   "outputs": [
    {
     "name": "stdout",
     "output_type": "stream",
     "text": [
      "test1 0 printing 0 Mon Apr  3 13:36:13 2023\n",
      "test1 0 printing 1 Mon Apr  3 13:36:14 2023\n",
      "test1 0 printing 2 Mon Apr  3 13:36:15 2023\n",
      "test1 0 printing 3 Mon Apr  3 13:36:16 2023\n",
      "test1 0 printing 4 Mon Apr  3 13:36:17 2023\n",
      "test1 0 printing 5 Mon Apr  3 13:36:18 2023\n",
      "test1 0 printing 6 Mon Apr  3 13:36:19 2023\n",
      "test1 0 printing 7 Mon Apr  3 13:36:20 2023\n",
      "test1 0 printing 8 Mon Apr  3 13:36:21 2023\n",
      "test1 0 printing 9 Mon Apr  3 13:36:22 2023\n"
     ]
    }
   ],
   "source": [
    "test1(0)"
   ]
  },
  {
   "cell_type": "code",
   "execution_count": 50,
   "metadata": {},
   "outputs": [],
   "source": [
    "thread1 = [threading.Thread(target = test1, args = (i, )) for i in range(3)]"
   ]
  },
  {
   "cell_type": "code",
   "execution_count": 51,
   "metadata": {},
   "outputs": [
    {
     "name": "stdout",
     "output_type": "stream",
     "text": [
      "test1 0 printing 0 Mon Apr  3 13:36:36 2023\n",
      "test1 1 printing 0 Mon Apr  3 13:36:36 2023\n",
      "test1 2 printing 0 Mon Apr  3 13:36:36 2023\n"
     ]
    },
    {
     "name": "stdout",
     "output_type": "stream",
     "text": [
      "test1 1 printing 1 Mon Apr  3 13:36:37 2023\n",
      "test1 2 printing 1 Mon Apr  3 13:36:37 2023\n",
      "test1 0 printing 1 Mon Apr  3 13:36:37 2023\n",
      "test1 2 printing 2 Mon Apr  3 13:36:38 2023\n",
      "test1 0 printing 2 Mon Apr  3 13:36:38 2023\n",
      "test1 1 printing 2 Mon Apr  3 13:36:38 2023\n",
      "test1 0 printing 3 Mon Apr  3 13:36:39 2023test1 2 printing 3 Mon Apr  3 13:36:39 2023\n",
      "test1 1 printing 3 Mon Apr  3 13:36:39 2023\n",
      "\n",
      "test1 0 printing 4 Mon Apr  3 13:36:40 2023test1 1 printing 4 Mon Apr  3 13:36:40 2023\n",
      "test1 2 printing 4 Mon Apr  3 13:36:40 2023\n",
      "\n",
      "test1 2 printing 5 Mon Apr  3 13:36:41 2023test1 0 printing 5 Mon Apr  3 13:36:41 2023\n",
      "test1 1 printing 5 Mon Apr  3 13:36:41 2023\n",
      "\n",
      "test1 0 printing 6 Mon Apr  3 13:36:43 2023\n",
      "test1 1 printing 6 Mon Apr  3 13:36:43 2023\n",
      "test1 2 printing 6 Mon Apr  3 13:36:43 2023\n",
      "test1 1 printing 7 Mon Apr  3 13:36:44 2023\n",
      "test1 2 printing 7 Mon Apr  3 13:36:44 2023\n",
      "test1 0 printing 7 Mon Apr  3 13:36:44 2023\n",
      "test1 0 printing 8 Mon Apr  3 13:36:45 2023\n",
      "test1 1 printing 8 Mon Apr  3 13:36:45 2023\n",
      "test1 2 printing 8 Mon Apr  3 13:36:45 2023\n",
      "test1 2 printing 9 Mon Apr  3 13:36:46 2023test1 0 printing 9 Mon Apr  3 13:36:46 2023\n",
      "test1 1 printing 9 Mon Apr  3 13:36:46 2023\n",
      "\n"
     ]
    }
   ],
   "source": [
    "for t in thread1:\n",
    "    t.start()"
   ]
  },
  {
   "cell_type": "code",
   "execution_count": 66,
   "metadata": {},
   "outputs": [
    {
     "name": "stdout",
     "output_type": "stream",
     "text": [
      "test2 id is 0 has increased the shared variable by 1\n"
     ]
    },
    {
     "name": "stdout",
     "output_type": "stream",
     "text": [
      "test2 id is 1 has increased the shared variable by 2\n",
      "test2 id is 2 has increased the shared variable by 3\n"
     ]
    }
   ],
   "source": [
    "shared_var = 0\n",
    "lock_var = threading.Lock()\n",
    "def test2(id):\n",
    "    global shared_var\n",
    "    with lock_var:\n",
    "        shared_var = shared_var + 1\n",
    "        print(\"test2 id is %d has increased the shared variable by %d\" %(id, shared_var))\n",
    "        time.sleep(1)\n",
    "ther3 = [threading.Thread(target = test2, args = (i,)) for i in range(3)]\n",
    "for t in ther3:\n",
    "    t.start()"
   ]
  }
 ],
 "metadata": {
  "kernelspec": {
   "display_name": "base",
   "language": "python",
   "name": "python3"
  },
  "language_info": {
   "codemirror_mode": {
    "name": "ipython",
    "version": 3
   },
   "file_extension": ".py",
   "mimetype": "text/x-python",
   "name": "python",
   "nbconvert_exporter": "python",
   "pygments_lexer": "ipython3",
   "version": "3.9.13"
  },
  "orig_nbformat": 4
 },
 "nbformat": 4,
 "nbformat_minor": 2
}
