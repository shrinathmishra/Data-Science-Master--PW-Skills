{
 "cells": [
  {
   "cell_type": "code",
   "execution_count": 1,
   "id": "ba1187d1-3868-48cc-9636-f47a4c5b927b",
   "metadata": {},
   "outputs": [
    {
     "data": {
      "text/plain": [
       "2"
      ]
     },
     "execution_count": 1,
     "metadata": {},
     "output_type": "execute_result"
    }
   ],
   "source": [
    "1+1"
   ]
  },
  {
   "cell_type": "code",
   "execution_count": 2,
   "id": "9f14d989-5ac8-412c-aa49-1695e0e5a933",
   "metadata": {
    "tags": []
   },
   "outputs": [
    {
     "data": {
      "text/plain": [
       "25"
      ]
     },
     "execution_count": 2,
     "metadata": {},
     "output_type": "execute_result"
    }
   ],
   "source": [
    "5*5"
   ]
  },
  {
   "cell_type": "code",
   "execution_count": 1,
   "id": "bbf9a1b7-19c0-49e1-86d5-251584b7600b",
   "metadata": {},
   "outputs": [],
   "source": [
    "a = 10"
   ]
  },
  {
   "cell_type": "code",
   "execution_count": 2,
   "id": "a66ec626-8a38-44f6-9516-a573c04f1408",
   "metadata": {},
   "outputs": [
    {
     "data": {
      "text/plain": [
       "10"
      ]
     },
     "execution_count": 2,
     "metadata": {},
     "output_type": "execute_result"
    }
   ],
   "source": [
    "a"
   ]
  },
  {
   "cell_type": "code",
   "execution_count": 3,
   "id": "997b9efc-a410-4c65-8f1d-b1badf16967b",
   "metadata": {},
   "outputs": [],
   "source": [
    "shrinath = 100"
   ]
  },
  {
   "cell_type": "code",
   "execution_count": 4,
   "id": "b953ee8e-f25b-49c3-8db9-1ea60ba98ac1",
   "metadata": {},
   "outputs": [
    {
     "data": {
      "text/plain": [
       "100"
      ]
     },
     "execution_count": 4,
     "metadata": {},
     "output_type": "execute_result"
    }
   ],
   "source": [
    "shrinath"
   ]
  },
  {
   "cell_type": "code",
   "execution_count": 5,
   "id": "4f379ded-36c1-4b1d-bdaa-3a7f09f13a06",
   "metadata": {},
   "outputs": [
    {
     "data": {
      "text/plain": [
       "110"
      ]
     },
     "execution_count": 5,
     "metadata": {},
     "output_type": "execute_result"
    }
   ],
   "source": [
    "a + shrinath"
   ]
  },
  {
   "cell_type": "code",
   "execution_count": 6,
   "id": "e68d72fe-9368-471f-a4fb-45f740dc0e7f",
   "metadata": {},
   "outputs": [
    {
     "data": {
      "text/plain": [
       "int"
      ]
     },
     "execution_count": 6,
     "metadata": {},
     "output_type": "execute_result"
    }
   ],
   "source": [
    "type(a)"
   ]
  },
  {
   "cell_type": "code",
   "execution_count": 7,
   "id": "863e961a-79a2-4b4f-a2fc-0faf3ad8a0a6",
   "metadata": {},
   "outputs": [
    {
     "data": {
      "text/plain": [
       "int"
      ]
     },
     "execution_count": 7,
     "metadata": {},
     "output_type": "execute_result"
    }
   ],
   "source": [
    "type(shrinath)"
   ]
  },
  {
   "cell_type": "code",
   "execution_count": 8,
   "id": "df4d42ca-a32e-4295-b9e2-14ebe2cd1c36",
   "metadata": {},
   "outputs": [],
   "source": [
    "b = 2.09"
   ]
  },
  {
   "cell_type": "code",
   "execution_count": 9,
   "id": "d817183a-8992-4801-b78f-f57aa624bbdc",
   "metadata": {},
   "outputs": [
    {
     "data": {
      "text/plain": [
       "float"
      ]
     },
     "execution_count": 9,
     "metadata": {},
     "output_type": "execute_result"
    }
   ],
   "source": [
    "type(b)"
   ]
  },
  {
   "cell_type": "code",
   "execution_count": 10,
   "id": "65aa8eee-35e3-4225-af48-80ccb9783c77",
   "metadata": {},
   "outputs": [],
   "source": [
    "c = 45.23345"
   ]
  },
  {
   "cell_type": "code",
   "execution_count": 11,
   "id": "8c8844f0-386f-4618-acce-1e91fa4cc3a4",
   "metadata": {},
   "outputs": [
    {
     "data": {
      "text/plain": [
       "float"
      ]
     },
     "execution_count": 11,
     "metadata": {},
     "output_type": "execute_result"
    }
   ],
   "source": [
    "type(c)"
   ]
  },
  {
   "cell_type": "code",
   "execution_count": 12,
   "id": "c4a94b3f-e80f-4d0c-85d1-639dd972f228",
   "metadata": {},
   "outputs": [],
   "source": [
    "d = \"shrinath\""
   ]
  },
  {
   "cell_type": "code",
   "execution_count": 13,
   "id": "0421a5a8-0532-4ab6-bb88-8e3402ee7f47",
   "metadata": {},
   "outputs": [
    {
     "data": {
      "text/plain": [
       "str"
      ]
     },
     "execution_count": 13,
     "metadata": {},
     "output_type": "execute_result"
    }
   ],
   "source": [
    "type(d)"
   ]
  },
  {
   "cell_type": "code",
   "execution_count": 14,
   "id": "f4346b90-0fa6-4e5a-ba75-ada78a5679c5",
   "metadata": {},
   "outputs": [],
   "source": [
    "e = \"Good Evening\""
   ]
  },
  {
   "cell_type": "code",
   "execution_count": 15,
   "id": "6512215e-54da-4db7-8395-e6d14208f656",
   "metadata": {},
   "outputs": [
    {
     "data": {
      "text/plain": [
       "str"
      ]
     },
     "execution_count": 15,
     "metadata": {},
     "output_type": "execute_result"
    }
   ],
   "source": [
    "type(e)"
   ]
  },
  {
   "cell_type": "code",
   "execution_count": 16,
   "id": "24216c8a-0a5e-4572-9b4b-f0c1c13098e8",
   "metadata": {},
   "outputs": [],
   "source": [
    "n = True"
   ]
  },
  {
   "cell_type": "code",
   "execution_count": 17,
   "id": "3946eaf5-c924-456e-a73b-d63dfd437519",
   "metadata": {},
   "outputs": [
    {
     "data": {
      "text/plain": [
       "bool"
      ]
     },
     "execution_count": 17,
     "metadata": {},
     "output_type": "execute_result"
    }
   ],
   "source": [
    "type(n)"
   ]
  },
  {
   "cell_type": "code",
   "execution_count": 18,
   "id": "01f114b5-cccf-46e4-9f0b-42f4f2de9f95",
   "metadata": {},
   "outputs": [],
   "source": [
    "m = False"
   ]
  },
  {
   "cell_type": "code",
   "execution_count": 19,
   "id": "70154b1b-b5a3-4d35-9b6a-7c27367ce11a",
   "metadata": {},
   "outputs": [
    {
     "data": {
      "text/plain": [
       "bool"
      ]
     },
     "execution_count": 19,
     "metadata": {},
     "output_type": "execute_result"
    }
   ],
   "source": [
    "type(m)"
   ]
  },
  {
   "cell_type": "code",
   "execution_count": 20,
   "id": "e9b4b248-451d-46e0-b621-542c413e54b8",
   "metadata": {},
   "outputs": [
    {
     "data": {
      "text/plain": [
       "1"
      ]
     },
     "execution_count": 20,
     "metadata": {},
     "output_type": "execute_result"
    }
   ],
   "source": [
    "n+m"
   ]
  },
  {
   "cell_type": "code",
   "execution_count": 21,
   "id": "6fe73f86-52b5-4d52-b7ff-fbeb99ca1a9d",
   "metadata": {},
   "outputs": [
    {
     "data": {
      "text/plain": [
       "1"
      ]
     },
     "execution_count": 21,
     "metadata": {},
     "output_type": "execute_result"
    }
   ],
   "source": [
    "True*True"
   ]
  },
  {
   "cell_type": "code",
   "execution_count": 22,
   "id": "1abf600b-b99d-4b81-94d2-b0782f39fe98",
   "metadata": {},
   "outputs": [
    {
     "data": {
      "text/plain": [
       "0"
      ]
     },
     "execution_count": 22,
     "metadata": {},
     "output_type": "execute_result"
    }
   ],
   "source": [
    "True*False"
   ]
  },
  {
   "cell_type": "code",
   "execution_count": 23,
   "id": "cd62d64e-ae35-4bef-8d61-3687f124e204",
   "metadata": {},
   "outputs": [
    {
     "ename": "ZeroDivisionError",
     "evalue": "division by zero",
     "output_type": "error",
     "traceback": [
      "\u001b[0;31m---------------------------------------------------------------------------\u001b[0m",
      "\u001b[0;31mZeroDivisionError\u001b[0m                         Traceback (most recent call last)",
      "Cell \u001b[0;32mIn[23], line 1\u001b[0m\n\u001b[0;32m----> 1\u001b[0m \u001b[38;5;28;43;01mTrue\u001b[39;49;00m\u001b[38;5;241;43m/\u001b[39;49m\u001b[38;5;28;43;01mFalse\u001b[39;49;00m\n",
      "\u001b[0;31mZeroDivisionError\u001b[0m: division by zero"
     ]
    }
   ],
   "source": [
    "True/False"
   ]
  },
  {
   "cell_type": "code",
   "execution_count": 24,
   "id": "1f00c7ae-bbbd-41a1-ace7-adbf0d73c5c7",
   "metadata": {},
   "outputs": [
    {
     "ename": "ZeroDivisionError",
     "evalue": "division by zero",
     "output_type": "error",
     "traceback": [
      "\u001b[0;31m---------------------------------------------------------------------------\u001b[0m",
      "\u001b[0;31mZeroDivisionError\u001b[0m                         Traceback (most recent call last)",
      "Cell \u001b[0;32mIn[24], line 1\u001b[0m\n\u001b[0;32m----> 1\u001b[0m \u001b[38;5;241;43m1\u001b[39;49m\u001b[38;5;241;43m/\u001b[39;49m\u001b[38;5;241;43m0\u001b[39;49m\n",
      "\u001b[0;31mZeroDivisionError\u001b[0m: division by zero"
     ]
    }
   ],
   "source": [
    "1/0"
   ]
  },
  {
   "cell_type": "code",
   "execution_count": 27,
   "id": "23fe100f-df25-4744-8524-08a39690ca65",
   "metadata": {},
   "outputs": [],
   "source": [
    "v = 5 + 8j"
   ]
  },
  {
   "cell_type": "code",
   "execution_count": 28,
   "id": "d360d6a6-f270-42bf-8b10-0ca997bf5585",
   "metadata": {},
   "outputs": [
    {
     "data": {
      "text/plain": [
       "complex"
      ]
     },
     "execution_count": 28,
     "metadata": {},
     "output_type": "execute_result"
    }
   ],
   "source": [
    "type(v)"
   ]
  },
  {
   "cell_type": "code",
   "execution_count": 29,
   "id": "635cb559-1304-4096-a60c-2487c8d57738",
   "metadata": {},
   "outputs": [
    {
     "data": {
      "text/plain": [
       "5.0"
      ]
     },
     "execution_count": 29,
     "metadata": {},
     "output_type": "execute_result"
    }
   ],
   "source": [
    "v.real"
   ]
  },
  {
   "cell_type": "code",
   "execution_count": 31,
   "id": "ee08ebf8-0117-483b-82f3-9e6c022bbdd0",
   "metadata": {},
   "outputs": [
    {
     "data": {
      "text/plain": [
       "8.0"
      ]
     },
     "execution_count": 31,
     "metadata": {},
     "output_type": "execute_result"
    }
   ],
   "source": [
    "v.imag"
   ]
  },
  {
   "cell_type": "code",
   "execution_count": 32,
   "id": "e6b2c892-06a3-4136-a4c5-0ad353b82fac",
   "metadata": {},
   "outputs": [
    {
     "data": {
      "text/plain": [
       "(5+8j)"
      ]
     },
     "execution_count": 32,
     "metadata": {},
     "output_type": "execute_result"
    }
   ],
   "source": [
    "v"
   ]
  },
  {
   "cell_type": "code",
   "execution_count": 33,
   "id": "930d08e2-14a5-4b1c-8c59-b816ac02e531",
   "metadata": {},
   "outputs": [
    {
     "name": "stdout",
     "output_type": "stream",
     "text": [
      "My name is Shrinath\n"
     ]
    }
   ],
   "source": [
    "print(\"My name is Shrinath\")"
   ]
  },
  {
   "cell_type": "code",
   "execution_count": 34,
   "id": "f1776638-30f2-4627-b1b8-4aa52ffc6b9a",
   "metadata": {},
   "outputs": [
    {
     "name": "stdout",
     "output_type": "stream",
     "text": [
      "10\n"
     ]
    }
   ],
   "source": [
    "print(a)"
   ]
  },
  {
   "cell_type": "code",
   "execution_count": 35,
   "id": "8385b338-2479-449c-9f09-2c921d7768ce",
   "metadata": {},
   "outputs": [
    {
     "name": "stdout",
     "output_type": "stream",
     "text": [
      "(5+8j)\n"
     ]
    }
   ],
   "source": [
    "print(v)"
   ]
  },
  {
   "cell_type": "code",
   "execution_count": 36,
   "id": "505132ab-5e12-49a1-a9a2-1de759611d97",
   "metadata": {},
   "outputs": [],
   "source": [
    "s = \"DataScience\""
   ]
  },
  {
   "cell_type": "code",
   "execution_count": 37,
   "id": "9cdecd4b-7c6b-4c92-b090-7afd498d12c6",
   "metadata": {},
   "outputs": [
    {
     "data": {
      "text/plain": [
       "str"
      ]
     },
     "execution_count": 37,
     "metadata": {},
     "output_type": "execute_result"
    }
   ],
   "source": [
    "type(s)"
   ]
  },
  {
   "cell_type": "code",
   "execution_count": 38,
   "id": "534f5f09-c199-4720-b6eb-f497eaf2ab6e",
   "metadata": {},
   "outputs": [
    {
     "data": {
      "text/plain": [
       "'D'"
      ]
     },
     "execution_count": 38,
     "metadata": {},
     "output_type": "execute_result"
    }
   ],
   "source": [
    "s[0]"
   ]
  },
  {
   "cell_type": "code",
   "execution_count": 39,
   "id": "db6e53ef-7260-4969-88d9-d419720c70bc",
   "metadata": {},
   "outputs": [
    {
     "data": {
      "text/plain": [
       "'t'"
      ]
     },
     "execution_count": 39,
     "metadata": {},
     "output_type": "execute_result"
    }
   ],
   "source": [
    "s[2]"
   ]
  },
  {
   "cell_type": "code",
   "execution_count": 41,
   "id": "ea24efad-0929-433e-b8a2-c7d1a61e7a74",
   "metadata": {},
   "outputs": [
    {
     "data": {
      "text/plain": [
       "'a'"
      ]
     },
     "execution_count": 41,
     "metadata": {},
     "output_type": "execute_result"
    }
   ],
   "source": [
    "s[3]"
   ]
  },
  {
   "cell_type": "code",
   "execution_count": 43,
   "id": "5aed097c-f294-4c4d-8a72-0c15ff7f16c4",
   "metadata": {},
   "outputs": [
    {
     "data": {
      "text/plain": [
       "'e'"
      ]
     },
     "execution_count": 43,
     "metadata": {},
     "output_type": "execute_result"
    }
   ],
   "source": [
    "s[-1]"
   ]
  },
  {
   "cell_type": "code",
   "execution_count": 44,
   "id": "80f35ba1-f271-46f0-bb1a-95737569a4a6",
   "metadata": {},
   "outputs": [
    {
     "data": {
      "text/plain": [
       "'D'"
      ]
     },
     "execution_count": 44,
     "metadata": {},
     "output_type": "execute_result"
    }
   ],
   "source": [
    "s[-11]"
   ]
  },
  {
   "cell_type": "code",
   "execution_count": 45,
   "id": "817562f9-cf8b-4d1e-a197-f629b4bd6e52",
   "metadata": {},
   "outputs": [
    {
     "data": {
      "text/plain": [
       "'Dat'"
      ]
     },
     "execution_count": 45,
     "metadata": {},
     "output_type": "execute_result"
    }
   ],
   "source": [
    "s[0:3]"
   ]
  },
  {
   "cell_type": "code",
   "execution_count": 46,
   "id": "8d2c464b-addb-4cd2-9f4c-5eb91f2c37e7",
   "metadata": {},
   "outputs": [
    {
     "data": {
      "text/plain": [
       "'Da'"
      ]
     },
     "execution_count": 46,
     "metadata": {},
     "output_type": "execute_result"
    }
   ],
   "source": [
    "s[0:2]"
   ]
  },
  {
   "cell_type": "code",
   "execution_count": 47,
   "id": "ab30a34c-fddb-4cb3-8872-8592b076620f",
   "metadata": {},
   "outputs": [
    {
     "data": {
      "text/plain": [
       "'Data'"
      ]
     },
     "execution_count": 47,
     "metadata": {},
     "output_type": "execute_result"
    }
   ],
   "source": [
    "s[0:4]"
   ]
  },
  {
   "cell_type": "code",
   "execution_count": 49,
   "id": "4ad6ef80-47cf-4be6-b161-86aa1ed45984",
   "metadata": {},
   "outputs": [
    {
     "data": {
      "text/plain": [
       "'DtSine'"
      ]
     },
     "execution_count": 49,
     "metadata": {},
     "output_type": "execute_result"
    }
   ],
   "source": [
    "s[0:12:2]"
   ]
  },
  {
   "cell_type": "code",
   "execution_count": 51,
   "id": "09c002c9-a636-4d30-bfe3-a0aed7367b13",
   "metadata": {},
   "outputs": [
    {
     "data": {
      "text/plain": [
       "'Data'"
      ]
     },
     "execution_count": 51,
     "metadata": {},
     "output_type": "execute_result"
    }
   ],
   "source": [
    "s[0:4:1]"
   ]
  },
  {
   "cell_type": "code",
   "execution_count": 52,
   "id": "56c1b155-d743-4c9c-90de-038961ef0fbd",
   "metadata": {},
   "outputs": [
    {
     "data": {
      "text/plain": [
       "'DtSine'"
      ]
     },
     "execution_count": 52,
     "metadata": {},
     "output_type": "execute_result"
    }
   ],
   "source": [
    "s[::2]"
   ]
  },
  {
   "cell_type": "code",
   "execution_count": 53,
   "id": "5859fa01-17c2-4c81-8899-b7f04ff1c09c",
   "metadata": {},
   "outputs": [
    {
     "data": {
      "text/plain": [
       "'DtSine'"
      ]
     },
     "execution_count": 53,
     "metadata": {},
     "output_type": "execute_result"
    }
   ],
   "source": [
    "s[0::2]"
   ]
  },
  {
   "cell_type": "code",
   "execution_count": 54,
   "id": "b4560486-cb4d-4cf3-a607-e71f1deaad25",
   "metadata": {},
   "outputs": [
    {
     "data": {
      "text/plain": [
       "'tSine'"
      ]
     },
     "execution_count": 54,
     "metadata": {},
     "output_type": "execute_result"
    }
   ],
   "source": [
    "s[2::2]"
   ]
  },
  {
   "cell_type": "code",
   "execution_count": 55,
   "id": "5e137805-7949-4ef4-8e83-bb6a369474ca",
   "metadata": {},
   "outputs": [
    {
     "data": {
      "text/plain": [
       "'taScience'"
      ]
     },
     "execution_count": 55,
     "metadata": {},
     "output_type": "execute_result"
    }
   ],
   "source": [
    "s[2::1]"
   ]
  },
  {
   "cell_type": "code",
   "execution_count": 56,
   "id": "e254fe05-ffd3-4de7-bcf2-ced9b0628440",
   "metadata": {},
   "outputs": [
    {
     "data": {
      "text/plain": [
       "'ecneicSataD'"
      ]
     },
     "execution_count": 56,
     "metadata": {},
     "output_type": "execute_result"
    }
   ],
   "source": [
    "s[::-1]"
   ]
  },
  {
   "cell_type": "code",
   "execution_count": 57,
   "id": "c5ef26af-d6ca-41f9-87d1-634bbf3c1e3a",
   "metadata": {},
   "outputs": [
    {
     "data": {
      "text/plain": [
       "'DataScience'"
      ]
     },
     "execution_count": 57,
     "metadata": {},
     "output_type": "execute_result"
    }
   ],
   "source": [
    "s"
   ]
  },
  {
   "cell_type": "code",
   "execution_count": 58,
   "id": "c142a19b-dc4c-471f-80ae-147bdec7681a",
   "metadata": {},
   "outputs": [
    {
     "data": {
      "text/plain": [
       "''"
      ]
     },
     "execution_count": 58,
     "metadata": {},
     "output_type": "execute_result"
    }
   ],
   "source": [
    "s[2:11:-1]"
   ]
  },
  {
   "cell_type": "code",
   "execution_count": 59,
   "id": "64f7a04f-cf0b-4b77-ab52-83be30a41275",
   "metadata": {},
   "outputs": [
    {
     "data": {
      "text/plain": [
       "''"
      ]
     },
     "execution_count": 59,
     "metadata": {},
     "output_type": "execute_result"
    }
   ],
   "source": [
    "s[8:0]"
   ]
  },
  {
   "cell_type": "code",
   "execution_count": 61,
   "id": "a10da913-b090-448a-ac0e-3d6941bceacf",
   "metadata": {},
   "outputs": [
    {
     "data": {
      "text/plain": [
       "'ecneicSataD'"
      ]
     },
     "execution_count": 61,
     "metadata": {},
     "output_type": "execute_result"
    }
   ],
   "source": [
    "s[12::-1]"
   ]
  },
  {
   "cell_type": "code",
   "execution_count": 64,
   "id": "120d98dd-d762-4d11-80b8-7ae1f7283a43",
   "metadata": {},
   "outputs": [
    {
     "data": {
      "text/plain": [
       "'ecneicS'"
      ]
     },
     "execution_count": 64,
     "metadata": {},
     "output_type": "execute_result"
    }
   ],
   "source": [
    "s[-1:-8:-1]"
   ]
  },
  {
   "cell_type": "code",
   "execution_count": 66,
   "id": "537feb78-459d-4713-853a-cc1a5163b289",
   "metadata": {},
   "outputs": [
    {
     "data": {
      "text/plain": [
       "'ecneicSataD'"
      ]
     },
     "execution_count": 66,
     "metadata": {},
     "output_type": "execute_result"
    }
   ],
   "source": [
    "s[-1::-1]"
   ]
  },
  {
   "cell_type": "code",
   "execution_count": 67,
   "id": "510eb4b1-04ea-4fe8-abef-eaf1cdb3cb32",
   "metadata": {},
   "outputs": [
    {
     "data": {
      "text/plain": [
       "'ecneicSataD'"
      ]
     },
     "execution_count": 67,
     "metadata": {},
     "output_type": "execute_result"
    }
   ],
   "source": [
    "s[::-1]"
   ]
  },
  {
   "cell_type": "code",
   "execution_count": 68,
   "id": "366f41aa-5715-4ff3-b908-ae3b5736cd15",
   "metadata": {},
   "outputs": [
    {
     "data": {
      "text/plain": [
       "'DataScience'"
      ]
     },
     "execution_count": 68,
     "metadata": {},
     "output_type": "execute_result"
    }
   ],
   "source": [
    "s[::]"
   ]
  },
  {
   "cell_type": "code",
   "execution_count": 69,
   "id": "7aa0fb07-53bd-456d-899c-cb483ab8917f",
   "metadata": {},
   "outputs": [
    {
     "data": {
      "text/plain": [
       "''"
      ]
     },
     "execution_count": 69,
     "metadata": {},
     "output_type": "execute_result"
    }
   ],
   "source": [
    "s[:-90:]"
   ]
  },
  {
   "cell_type": "code",
   "execution_count": 70,
   "id": "52366045-61c7-4e82-ab58-5ffd40365aca",
   "metadata": {},
   "outputs": [
    {
     "ename": "IndexError",
     "evalue": "string index out of range",
     "output_type": "error",
     "traceback": [
      "\u001b[0;31m---------------------------------------------------------------------------\u001b[0m",
      "\u001b[0;31mIndexError\u001b[0m                                Traceback (most recent call last)",
      "Cell \u001b[0;32mIn[70], line 1\u001b[0m\n\u001b[0;32m----> 1\u001b[0m \u001b[43ms\u001b[49m\u001b[43m[\u001b[49m\u001b[38;5;241;43m90\u001b[39;49m\u001b[43m]\u001b[49m\n",
      "\u001b[0;31mIndexError\u001b[0m: string index out of range"
     ]
    }
   ],
   "source": [
    "s[90]"
   ]
  },
  {
   "cell_type": "code",
   "execution_count": 71,
   "id": "99a16a56-95ef-44bf-a404-96b69f825570",
   "metadata": {},
   "outputs": [
    {
     "data": {
      "text/plain": [
       "'ecneicSataD'"
      ]
     },
     "execution_count": 71,
     "metadata": {},
     "output_type": "execute_result"
    }
   ],
   "source": [
    "s[:-90000:-1]"
   ]
  },
  {
   "cell_type": "code",
   "execution_count": 72,
   "id": "bd797d06-9ca6-47cf-80d8-612e07cfe7a4",
   "metadata": {},
   "outputs": [],
   "source": [
    "c = 200"
   ]
  },
  {
   "cell_type": "code",
   "execution_count": 73,
   "id": "ee52b9c2-e885-483e-b820-1b0b18de0750",
   "metadata": {},
   "outputs": [],
   "source": [
    "s1 = \"this is a string\""
   ]
  },
  {
   "cell_type": "code",
   "execution_count": 75,
   "id": "a276ad92-4bec-4494-837e-39e017937516",
   "metadata": {},
   "outputs": [
    {
     "data": {
      "text/plain": [
       "16"
      ]
     },
     "execution_count": 75,
     "metadata": {},
     "output_type": "execute_result"
    }
   ],
   "source": [
    "len(s1)"
   ]
  },
  {
   "cell_type": "code",
   "execution_count": 76,
   "id": "15eb5d47-096e-4faf-b3c9-1a36e780f230",
   "metadata": {},
   "outputs": [
    {
     "data": {
      "text/plain": [
       "3"
      ]
     },
     "execution_count": 76,
     "metadata": {},
     "output_type": "execute_result"
    }
   ],
   "source": [
    "s1.find('s')"
   ]
  },
  {
   "cell_type": "code",
   "execution_count": 77,
   "id": "6528e500-de38-49fc-9449-8dffb050ad21",
   "metadata": {},
   "outputs": [
    {
     "data": {
      "text/plain": [
       "2"
      ]
     },
     "execution_count": 77,
     "metadata": {},
     "output_type": "execute_result"
    }
   ],
   "source": [
    "s1.find('i')"
   ]
  },
  {
   "cell_type": "code",
   "execution_count": 78,
   "id": "1bb3d23d-a0af-4023-bfdd-31bfa13a61f0",
   "metadata": {},
   "outputs": [
    {
     "data": {
      "text/plain": [
       "2"
      ]
     },
     "execution_count": 78,
     "metadata": {},
     "output_type": "execute_result"
    }
   ],
   "source": [
    "s1.find('is')"
   ]
  },
  {
   "cell_type": "code",
   "execution_count": 79,
   "id": "5b9af5b6-31a8-41c7-9094-365222aeb12f",
   "metadata": {},
   "outputs": [
    {
     "data": {
      "text/plain": [
       "-1"
      ]
     },
     "execution_count": 79,
     "metadata": {},
     "output_type": "execute_result"
    }
   ],
   "source": [
    "# this is a code to find a character of sub string in string\n",
    "s1.find('iS')"
   ]
  },
  {
   "cell_type": "code",
   "execution_count": 80,
   "id": "4ba75f0d-10b3-45ce-8742-8fcaf971e87a",
   "metadata": {},
   "outputs": [
    {
     "data": {
      "text/plain": [
       "3"
      ]
     },
     "execution_count": 80,
     "metadata": {},
     "output_type": "execute_result"
    }
   ],
   "source": [
    "s1.count('s')"
   ]
  },
  {
   "cell_type": "code",
   "execution_count": 81,
   "id": "4b445926-3e23-4fe0-83cd-3f3f253fce5f",
   "metadata": {},
   "outputs": [
    {
     "data": {
      "text/plain": [
       "'this is a string'"
      ]
     },
     "execution_count": 81,
     "metadata": {},
     "output_type": "execute_result"
    }
   ],
   "source": [
    "s1"
   ]
  },
  {
   "cell_type": "code",
   "execution_count": 82,
   "id": "9ddfbb27-2ed4-456c-bfe1-bb066ae92f73",
   "metadata": {},
   "outputs": [
    {
     "data": {
      "text/plain": [
       "1"
      ]
     },
     "execution_count": 82,
     "metadata": {},
     "output_type": "execute_result"
    }
   ],
   "source": [
    "s1.count(\"st\")"
   ]
  },
  {
   "cell_type": "code",
   "execution_count": 83,
   "id": "52fcd956-cbe5-411c-8a2e-1bc209d65598",
   "metadata": {},
   "outputs": [
    {
     "data": {
      "text/plain": [
       "0"
      ]
     },
     "execution_count": 83,
     "metadata": {},
     "output_type": "execute_result"
    }
   ],
   "source": [
    "s1.count('z')"
   ]
  },
  {
   "cell_type": "code",
   "execution_count": 84,
   "id": "71757ab6-9d71-4d02-8304-2a01ad7a05ac",
   "metadata": {},
   "outputs": [
    {
     "data": {
      "text/plain": [
       "'this is a string'"
      ]
     },
     "execution_count": 84,
     "metadata": {},
     "output_type": "execute_result"
    }
   ],
   "source": [
    "s1"
   ]
  },
  {
   "cell_type": "code",
   "execution_count": 85,
   "id": "19b24530-7815-407e-a674-f9ab31b366f7",
   "metadata": {},
   "outputs": [
    {
     "data": {
      "text/plain": [
       "'THIS IS A STRING'"
      ]
     },
     "execution_count": 85,
     "metadata": {},
     "output_type": "execute_result"
    }
   ],
   "source": [
    "s1.upper()"
   ]
  },
  {
   "cell_type": "code",
   "execution_count": 86,
   "id": "971f9936-6636-49c3-96d8-29a2c8203bad",
   "metadata": {},
   "outputs": [],
   "source": [
    "s2 = 'THIS IS A STRING'"
   ]
  },
  {
   "cell_type": "code",
   "execution_count": 87,
   "id": "8cdadbd1-f38f-4bab-95c6-8cfb489275e1",
   "metadata": {},
   "outputs": [
    {
     "data": {
      "text/plain": [
       "'THIS IS A STRING'"
      ]
     },
     "execution_count": 87,
     "metadata": {},
     "output_type": "execute_result"
    }
   ],
   "source": [
    "s2"
   ]
  },
  {
   "cell_type": "code",
   "execution_count": 88,
   "id": "3a374c43-7e3f-4cea-ba8a-1f0fb9f28634",
   "metadata": {},
   "outputs": [
    {
     "data": {
      "text/plain": [
       "'this is a string'"
      ]
     },
     "execution_count": 88,
     "metadata": {},
     "output_type": "execute_result"
    }
   ],
   "source": [
    "s2.lower()"
   ]
  },
  {
   "cell_type": "code",
   "execution_count": 89,
   "id": "861522af-10d2-41bd-85a5-c43fb4465380",
   "metadata": {},
   "outputs": [
    {
     "data": {
      "text/plain": [
       "'this is a string'"
      ]
     },
     "execution_count": 89,
     "metadata": {},
     "output_type": "execute_result"
    }
   ],
   "source": [
    "s1"
   ]
  },
  {
   "cell_type": "code",
   "execution_count": 90,
   "id": "fd3e5475-c3c5-48b2-bbac-dc12b5409b43",
   "metadata": {},
   "outputs": [
    {
     "data": {
      "text/plain": [
       "'This Is A String'"
      ]
     },
     "execution_count": 90,
     "metadata": {},
     "output_type": "execute_result"
    }
   ],
   "source": [
    "s1.title()"
   ]
  },
  {
   "cell_type": "code",
   "execution_count": 91,
   "id": "bf04460f-3be0-4392-b488-8e2a3476e55f",
   "metadata": {},
   "outputs": [
    {
     "data": {
      "text/plain": [
       "'This is a string'"
      ]
     },
     "execution_count": 91,
     "metadata": {},
     "output_type": "execute_result"
    }
   ],
   "source": [
    "s1.capitalize()"
   ]
  },
  {
   "cell_type": "code",
   "execution_count": 92,
   "id": "cb82815d-8177-464f-a696-3edfeec47594",
   "metadata": {},
   "outputs": [
    {
     "data": {
      "text/plain": [
       "'DataScience'"
      ]
     },
     "execution_count": 92,
     "metadata": {},
     "output_type": "execute_result"
    }
   ],
   "source": [
    "s"
   ]
  },
  {
   "cell_type": "code",
   "execution_count": 93,
   "id": "b966861f-961e-4013-b146-4a92c40bf508",
   "metadata": {},
   "outputs": [
    {
     "ename": "TypeError",
     "evalue": "can only concatenate str (not \"int\") to str",
     "output_type": "error",
     "traceback": [
      "\u001b[0;31m---------------------------------------------------------------------------\u001b[0m",
      "\u001b[0;31mTypeError\u001b[0m                                 Traceback (most recent call last)",
      "Cell \u001b[0;32mIn[93], line 1\u001b[0m\n\u001b[0;32m----> 1\u001b[0m \u001b[43ms\u001b[49m\u001b[43m \u001b[49m\u001b[38;5;241;43m+\u001b[39;49m\u001b[43m \u001b[49m\u001b[38;5;241;43m1\u001b[39;49m\n",
      "\u001b[0;31mTypeError\u001b[0m: can only concatenate str (not \"int\") to str"
     ]
    }
   ],
   "source": [
    "s + 1"
   ]
  },
  {
   "cell_type": "code",
   "execution_count": 95,
   "id": "1f026e7c-5c5d-4866-9c17-ce036506972b",
   "metadata": {},
   "outputs": [
    {
     "data": {
      "text/plain": [
       "'DataScience shri'"
      ]
     },
     "execution_count": 95,
     "metadata": {},
     "output_type": "execute_result"
    }
   ],
   "source": [
    "s + ' shri'"
   ]
  },
  {
   "cell_type": "code",
   "execution_count": 96,
   "id": "f33e7f86-7e83-4957-ac76-9affe3226995",
   "metadata": {},
   "outputs": [
    {
     "data": {
      "text/plain": [
       "'DataScience1'"
      ]
     },
     "execution_count": 96,
     "metadata": {},
     "output_type": "execute_result"
    }
   ],
   "source": [
    "s + '1'"
   ]
  },
  {
   "cell_type": "code",
   "execution_count": 97,
   "id": "82aa46a3-f8be-400c-9ded-755426e23e5a",
   "metadata": {},
   "outputs": [
    {
     "data": {
      "text/plain": [
       "'DataScience1'"
      ]
     },
     "execution_count": 97,
     "metadata": {},
     "output_type": "execute_result"
    }
   ],
   "source": [
    "s + str(1)"
   ]
  },
  {
   "cell_type": "code",
   "execution_count": 98,
   "id": "20961f78-0562-4de9-bcfc-b997420d9fa9",
   "metadata": {},
   "outputs": [
    {
     "data": {
      "text/plain": [
       "'DataScienceDataScienceDataScience'"
      ]
     },
     "execution_count": 98,
     "metadata": {},
     "output_type": "execute_result"
    }
   ],
   "source": [
    "s*3"
   ]
  },
  {
   "cell_type": "code",
   "execution_count": 99,
   "id": "fa49ffcc-b225-48e9-98e9-bf07904b487e",
   "metadata": {},
   "outputs": [
    {
     "data": {
      "text/plain": [
       "'shrishrishri'"
      ]
     },
     "execution_count": 99,
     "metadata": {},
     "output_type": "execute_result"
    }
   ],
   "source": [
    "'shri'*3"
   ]
  },
  {
   "cell_type": "code",
   "execution_count": 101,
   "id": "b7e67e58-2844-47e5-b116-bea5efb9389e",
   "metadata": {},
   "outputs": [
    {
     "ename": "TypeError",
     "evalue": "unsupported operand type(s) for /: 'str' and 'int'",
     "output_type": "error",
     "traceback": [
      "\u001b[0;31m---------------------------------------------------------------------------\u001b[0m",
      "\u001b[0;31mTypeError\u001b[0m                                 Traceback (most recent call last)",
      "Cell \u001b[0;32mIn[101], line 1\u001b[0m\n\u001b[0;32m----> 1\u001b[0m \u001b[38;5;124;43m'\u001b[39;49m\u001b[38;5;124;43mshri\u001b[39;49m\u001b[38;5;124;43m'\u001b[39;49m\u001b[43m \u001b[49m\u001b[38;5;241;43m/\u001b[39;49m\u001b[43m \u001b[49m\u001b[38;5;241;43m4\u001b[39;49m\n",
      "\u001b[0;31mTypeError\u001b[0m: unsupported operand type(s) for /: 'str' and 'int'"
     ]
    }
   ],
   "source": [
    "'shri' / 4"
   ]
  },
  {
   "cell_type": "code",
   "execution_count": 102,
   "id": "5124fdc6-2b0c-417e-9a42-cf3a28bdf3a1",
   "metadata": {},
   "outputs": [
    {
     "data": {
      "text/plain": [
       "\"don't break someone's trust\""
      ]
     },
     "execution_count": 102,
     "metadata": {},
     "output_type": "execute_result"
    }
   ],
   "source": [
    "\"don't break someone's trust\""
   ]
  },
  {
   "cell_type": "code",
   "execution_count": 103,
   "id": "79389399-5e5a-4494-83b7-dd3b35c4cfc2",
   "metadata": {},
   "outputs": [
    {
     "data": {
      "text/plain": [
       "'don\"t break someone\"s trust'"
      ]
     },
     "execution_count": 103,
     "metadata": {},
     "output_type": "execute_result"
    }
   ],
   "source": [
    "'don\"t break someone\"s trust'"
   ]
  },
  {
   "cell_type": "code",
   "execution_count": 104,
   "id": "9ef5da2f-f1ef-413e-aab2-29909792ae94",
   "metadata": {},
   "outputs": [],
   "source": [
    "s3 = \"\"\"This is my first session for python programing \n",
    "I have learnt variable declaration, data type, string, int, boolean, complex number.\n",
    "I have seen some example of string slicing and indexing.\n",
    "I have gone through some of the string inbuilt function.\n",
    "Apart from that I am trying to practice in my system.\"\"\""
   ]
  },
  {
   "cell_type": "code",
   "execution_count": 105,
   "id": "10d308f2-f0bd-425f-8ebe-bec0310305ae",
   "metadata": {},
   "outputs": [
    {
     "data": {
      "text/plain": [
       "'This is my first session for python programing \\nI have learnt variable declaration, data type, string, int, boolean, complex number.\\nI have seen some example of string slicing and indexing.\\nI have gone through some of the string inbuilt function.\\nApart from that I am trying to practice in my system.'"
      ]
     },
     "execution_count": 105,
     "metadata": {},
     "output_type": "execute_result"
    }
   ],
   "source": [
    "s3"
   ]
  },
  {
   "cell_type": "code",
   "execution_count": 106,
   "id": "e1435d2f-c50c-40eb-95a8-3a6c975d29ad",
   "metadata": {},
   "outputs": [
    {
     "data": {
      "text/plain": [
       "'DataScience'"
      ]
     },
     "execution_count": 106,
     "metadata": {},
     "output_type": "execute_result"
    }
   ],
   "source": [
    "s"
   ]
  },
  {
   "cell_type": "code",
   "execution_count": 107,
   "id": "96f54bc8-7f45-48f2-ad97-03b1e9b5a108",
   "metadata": {},
   "outputs": [
    {
     "data": {
      "text/plain": [
       "'ecneicSataD'"
      ]
     },
     "execution_count": 107,
     "metadata": {},
     "output_type": "execute_result"
    }
   ],
   "source": [
    "s[::-1]"
   ]
  },
  {
   "cell_type": "code",
   "execution_count": 110,
   "id": "2a14cdcc-6c51-4049-97be-8f65ff3650cc",
   "metadata": {},
   "outputs": [
    {
     "data": {
      "text/plain": [
       "'d'"
      ]
     },
     "execution_count": 110,
     "metadata": {},
     "output_type": "execute_result"
    }
   ],
   "source": [
    "s[-11::-1].lower()"
   ]
  },
  {
   "cell_type": "code",
   "execution_count": 113,
   "id": "0919b9c6-cb24-4f27-9b62-202deb5900b7",
   "metadata": {},
   "outputs": [],
   "source": [
    "s = \"adesh\""
   ]
  },
  {
   "cell_type": "code",
   "execution_count": 114,
   "id": "2b2a607d-71b3-4a23-8084-b2fc20ec8113",
   "metadata": {},
   "outputs": [
    {
     "data": {
      "text/plain": [
       "'adesh'"
      ]
     },
     "execution_count": 114,
     "metadata": {},
     "output_type": "execute_result"
    }
   ],
   "source": [
    "s"
   ]
  },
  {
   "cell_type": "code",
   "execution_count": 115,
   "id": "5c7c4751-e444-4ab0-986f-a226bd651426",
   "metadata": {},
   "outputs": [
    {
     "name": "stdout",
     "output_type": "stream",
     "text": [
      "adesh\n"
     ]
    }
   ],
   "source": [
    "print(s)"
   ]
  },
  {
   "cell_type": "code",
   "execution_count": 116,
   "id": "3d8bfd10-f6c3-42d1-8673-5cd8b34a93de",
   "metadata": {},
   "outputs": [
    {
     "data": {
      "text/plain": [
       "'seda'"
      ]
     },
     "execution_count": 116,
     "metadata": {},
     "output_type": "execute_result"
    }
   ],
   "source": [
    "s[-2::-1]"
   ]
  },
  {
   "cell_type": "code",
   "execution_count": 117,
   "id": "96803b96-2d86-43d3-9462-b4bb4814b82a",
   "metadata": {},
   "outputs": [],
   "source": [
    "s = \"Data Analytics\""
   ]
  },
  {
   "cell_type": "code",
   "execution_count": 119,
   "id": "8866ccf1-3d4f-4228-9767-070dd460ec8e",
   "metadata": {},
   "outputs": [
    {
     "data": {
      "text/plain": [
       "'scitylanA ataD'"
      ]
     },
     "execution_count": 119,
     "metadata": {},
     "output_type": "execute_result"
    }
   ],
   "source": [
    "s[-1::-1]"
   ]
  },
  {
   "cell_type": "code",
   "execution_count": null,
   "id": "d78a5f13-cdf1-4e49-bcca-90d5df29e595",
   "metadata": {},
   "outputs": [],
   "source": [
    "s4 = \"\"\" I am Shrinath "
   ]
  }
 ],
 "metadata": {
  "kernelspec": {
   "display_name": "Python 3 (ipykernel)",
   "language": "python",
   "name": "python3"
  },
  "language_info": {
   "codemirror_mode": {
    "name": "ipython",
    "version": 3
   },
   "file_extension": ".py",
   "mimetype": "text/x-python",
   "name": "python",
   "nbconvert_exporter": "python",
   "pygments_lexer": "ipython3",
   "version": "3.10.8"
  }
 },
 "nbformat": 4,
 "nbformat_minor": 5
}
